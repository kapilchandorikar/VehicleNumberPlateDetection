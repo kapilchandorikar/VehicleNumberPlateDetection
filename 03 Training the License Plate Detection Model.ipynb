{
 "cells": [
  {
   "cell_type": "code",
   "execution_count": 0,
   "metadata": {
    "colab": {},
    "colab_type": "code",
    "id": "gQzJvZGCrKtH",
    "scrolled": true
   },
   "outputs": [],
   "source": [
    "%cd darknet\n",
    "!rm Makefile"
   ]
  },
  {
   "cell_type": "markdown",
   "metadata": {
    "colab_type": "text",
    "id": "EP3T4pZ2rKtK"
   },
   "source": [
    "#### Loading the modified configuration files.\n",
    "\n",
    "The configuration files have been modified to detect a custom object - number plate. I have hosted the modified files in my Google Drive so that they can be easily downloaded/used when excuting the code."
   ]
  },
  {
   "cell_type": "markdown",
   "metadata": {
    "colab_type": "text",
    "id": "H5SPQi5FrKtK"
   },
   "source": [
    "#### 1. Makefile\n",
    "\n",
    "[Link](https://drive.google.com/open?id=15QvWqluy56pPTL7FmGN8gFugu6wa5ZIj)   \n",
    "\n",
    "Changes made:\n",
    "```\n",
    "GPU=1\n",
    "CUDNN=1\n",
    "CUDNN_HALF=1\n",
    "OPENCV=1\n",
    "```"
   ]
  },
  {
   "cell_type": "code",
   "execution_count": 50,
   "metadata": {
    "colab": {
     "base_uri": "https://localhost:8080/",
     "height": 326
    },
    "colab_type": "code",
    "id": "bs6D2y9IrKtK",
    "outputId": "91b3a93d-a93f-4148-905e-10e070fca192",
    "scrolled": true
   },
   "outputs": [
    {
     "name": "stdout",
     "output_type": "stream",
     "text": [
      "--2019-08-27 15:41:41--  https://docs.google.com/uc?export=download&confirm=&id=15QvWqluy56pPTL7FmGN8gFugu6wa5ZIj\n",
      "Resolving docs.google.com (docs.google.com)... 108.177.97.113, 108.177.97.101, 108.177.97.100, ...\n",
      "Connecting to docs.google.com (docs.google.com)|108.177.97.113|:443... connected.\n",
      "HTTP request sent, awaiting response... 302 Moved Temporarily\n",
      "Location: https://doc-08-90-docs.googleusercontent.com/docs/securesc/ha0ro937gcuc7l7deffksulhg5h7mbp1/1f9oc72dbj5j4sdm978v72m42m8i09fv/1566914400000/00369660752892953074/*/15QvWqluy56pPTL7FmGN8gFugu6wa5ZIj?e=download [following]\n",
      "Warning: wildcards not supported in HTTP.\n",
      "--2019-08-27 15:41:41--  https://doc-08-90-docs.googleusercontent.com/docs/securesc/ha0ro937gcuc7l7deffksulhg5h7mbp1/1f9oc72dbj5j4sdm978v72m42m8i09fv/1566914400000/00369660752892953074/*/15QvWqluy56pPTL7FmGN8gFugu6wa5ZIj?e=download\n",
      "Resolving doc-08-90-docs.googleusercontent.com (doc-08-90-docs.googleusercontent.com)... 108.177.97.132, 2404:6800:4008:c00::84\n",
      "Connecting to doc-08-90-docs.googleusercontent.com (doc-08-90-docs.googleusercontent.com)|108.177.97.132|:443... connected.\n",
      "HTTP request sent, awaiting response... 200 OK\n",
      "Length: 4991 (4.9K) [text/plain]\n",
      "Saving to: ‘Makefile’\n",
      "\n",
      "Makefile            100%[===================>]   4.87K  --.-KB/s    in 0s      \n",
      "\n",
      "2019-08-27 15:41:42 (83.2 MB/s) - ‘Makefile’ saved [4991/4991]\n",
      "\n"
     ]
    }
   ],
   "source": [
    "!wget --load-cookies /tmp/cookies.txt \"https://docs.google.com/uc?export=download&confirm=$(wget --quiet --save-cookies /tmp/cookies.txt --keep-session-cookies --no-check-certificate 'https://docs.google.com/uc?export=download&id=15QvWqluy56pPTL7FmGN8gFugu6wa5ZIj' -O- | sed -rn 's/.*confirm=([0-9A-Za-z_]+).*/\\1\\n/p')&id=15QvWqluy56pPTL7FmGN8gFugu6wa5ZIj\" -O Makefile && rm -rf /tmp/cookies.txt"
   ]
  },
  {
   "cell_type": "markdown",
   "metadata": {
    "colab_type": "text",
    "id": "504aPMA2rKtP"
   },
   "source": [
    "#### 2. objects.names\n",
    "[Link](https://drive.google.com/open?id=1HmV1zeRq6Np3Kr77X-X7TFNCSM-mNFMx)   \n",
    "\n",
    "Content: The class labels.\n",
    "```\n",
    "number_plate\n",
    "```"
   ]
  },
  {
   "cell_type": "code",
   "execution_count": 51,
   "metadata": {
    "colab": {
     "base_uri": "https://localhost:8080/",
     "height": 326
    },
    "colab_type": "code",
    "id": "uLFjw6e9rKtP",
    "outputId": "5a893e11-5215-488f-f538-fd34f2cf6c7f",
    "scrolled": true
   },
   "outputs": [
    {
     "name": "stdout",
     "output_type": "stream",
     "text": [
      "--2019-08-27 15:41:47--  https://docs.google.com/uc?export=download&confirm=&id=1HmV1zeRq6Np3Kr77X-X7TFNCSM-mNFMx\n",
      "Resolving docs.google.com (docs.google.com)... 74.125.204.100, 74.125.204.102, 74.125.204.139, ...\n",
      "Connecting to docs.google.com (docs.google.com)|74.125.204.100|:443... connected.\n",
      "HTTP request sent, awaiting response... 302 Moved Temporarily\n",
      "Location: https://doc-0k-90-docs.googleusercontent.com/docs/securesc/ha0ro937gcuc7l7deffksulhg5h7mbp1/tjdvfose1q80ifr7nqju8dkf9q8qgspi/1566914400000/00369660752892953074/*/1HmV1zeRq6Np3Kr77X-X7TFNCSM-mNFMx?e=download [following]\n",
      "Warning: wildcards not supported in HTTP.\n",
      "--2019-08-27 15:41:48--  https://doc-0k-90-docs.googleusercontent.com/docs/securesc/ha0ro937gcuc7l7deffksulhg5h7mbp1/tjdvfose1q80ifr7nqju8dkf9q8qgspi/1566914400000/00369660752892953074/*/1HmV1zeRq6Np3Kr77X-X7TFNCSM-mNFMx?e=download\n",
      "Resolving doc-0k-90-docs.googleusercontent.com (doc-0k-90-docs.googleusercontent.com)... 108.177.97.132, 2404:6800:4008:c00::84\n",
      "Connecting to doc-0k-90-docs.googleusercontent.com (doc-0k-90-docs.googleusercontent.com)|108.177.97.132|:443... connected.\n",
      "HTTP request sent, awaiting response... 200 OK\n",
      "Length: 12 [application/octet-stream]\n",
      "Saving to: ‘cfg/objects.names’\n",
      "\n",
      "cfg/objects.names   100%[===================>]      12  --.-KB/s    in 0s      \n",
      "\n",
      "2019-08-27 15:41:48 (622 KB/s) - ‘cfg/objects.names’ saved [12/12]\n",
      "\n"
     ]
    }
   ],
   "source": [
    "!wget --load-cookies /tmp/cookies.txt \"https://docs.google.com/uc?export=download&confirm=$(wget --quiet --save-cookies /tmp/cookies.txt --keep-session-cookies --no-check-certificate 'https://docs.google.com/uc?export=download&id=1HmV1zeRq6Np3Kr77X-X7TFNCSM-mNFMx' -O- | sed -rn 's/.*confirm=([0-9A-Za-z_]+).*/\\1\\n/p')&id=1HmV1zeRq6Np3Kr77X-X7TFNCSM-mNFMx\" -O cfg/objects.names && rm -rf /tmp/cookies.txt\n",
    "!cp cfg/objects.names objects.names"
   ]
  },
  {
   "cell_type": "markdown",
   "metadata": {
    "colab_type": "text",
    "id": "nezVqHjJrKtR"
   },
   "source": [
    "#### 3. objects.data\n",
    "[Link](https://drive.google.com/open?id=1EVoJ9r1kagRVLxCzXUX8sixOQFL8EKuZ)   \n",
    "\n",
    "Content: The number of classes, relative locations of train, test set list files, and other directories.\n",
    "```\n",
    "classes= 1\n",
    "train  = train.txt  \n",
    "valid  = test.txt  \n",
    "names = objects.names  \n",
    "backup = backup/\n",
    "```"
   ]
  },
  {
   "cell_type": "code",
   "execution_count": 52,
   "metadata": {
    "colab": {
     "base_uri": "https://localhost:8080/",
     "height": 326
    },
    "colab_type": "code",
    "id": "fWPAd_W4rKtS",
    "outputId": "adddab3c-56ab-4c10-de87-d7b516ffa4ba",
    "scrolled": true
   },
   "outputs": [
    {
     "name": "stdout",
     "output_type": "stream",
     "text": [
      "--2019-08-27 15:41:56--  https://docs.google.com/uc?export=download&confirm=&id=1EVoJ9r1kagRVLxCzXUX8sixOQFL8EKuZ\n",
      "Resolving docs.google.com (docs.google.com)... 74.125.204.138, 74.125.204.100, 74.125.204.113, ...\n",
      "Connecting to docs.google.com (docs.google.com)|74.125.204.138|:443... connected.\n",
      "HTTP request sent, awaiting response... 302 Moved Temporarily\n",
      "Location: https://doc-08-90-docs.googleusercontent.com/docs/securesc/ha0ro937gcuc7l7deffksulhg5h7mbp1/qmkse66mq1es5l0sjjok16hqde3gq2bk/1566914400000/00369660752892953074/*/1EVoJ9r1kagRVLxCzXUX8sixOQFL8EKuZ?e=download [following]\n",
      "Warning: wildcards not supported in HTTP.\n",
      "--2019-08-27 15:41:56--  https://doc-08-90-docs.googleusercontent.com/docs/securesc/ha0ro937gcuc7l7deffksulhg5h7mbp1/qmkse66mq1es5l0sjjok16hqde3gq2bk/1566914400000/00369660752892953074/*/1EVoJ9r1kagRVLxCzXUX8sixOQFL8EKuZ?e=download\n",
      "Resolving doc-08-90-docs.googleusercontent.com (doc-08-90-docs.googleusercontent.com)... 108.177.97.132, 2404:6800:4008:c00::84\n",
      "Connecting to doc-08-90-docs.googleusercontent.com (doc-08-90-docs.googleusercontent.com)|108.177.97.132|:443... connected.\n",
      "HTTP request sent, awaiting response... 200 OK\n",
      "Length: 96 [application/octet-stream]\n",
      "Saving to: ‘cfg/objects.data’\n",
      "\n",
      "\r",
      "cfg/objects.data      0%[                    ]       0  --.-KB/s               \r",
      "cfg/objects.data    100%[===================>]      96  --.-KB/s    in 0s      \n",
      "\n",
      "2019-08-27 15:41:57 (6.29 MB/s) - ‘cfg/objects.data’ saved [96/96]\n",
      "\n"
     ]
    }
   ],
   "source": [
    "!wget --load-cookies /tmp/cookies.txt \"https://docs.google.com/uc?export=download&confirm=$(wget --quiet --save-cookies /tmp/cookies.txt --keep-session-cookies --no-check-certificate 'https://docs.google.com/uc?export=download&id=1EVoJ9r1kagRVLxCzXUX8sixOQFL8EKuZ' -O- | sed -rn 's/.*confirm=([0-9A-Za-z_]+).*/\\1\\n/p')&id=1EVoJ9r1kagRVLxCzXUX8sixOQFL8EKuZ\" -O cfg/objects.data && rm -rf /tmp/cookies.txt"
   ]
  },
  {
   "cell_type": "markdown",
   "metadata": {
    "colab_type": "text",
    "id": "Pu5EG1rWrKtV"
   },
   "source": [
    "#### 4. custom_yolov3.cfg\n",
    "\n",
    "[Link](https://drive.google.com/open?id=1Rv__I8nsJnZvD1VwR_OFVxdx8B-ZcrLr)   \n",
    "\n",
    "Changes made: 12 lines. (line no, content)\n",
    "```\n",
    "  3 batch=24\n",
    "  4 subdivisions=8\n",
    "  6 # batch=64\n",
    "  7 # subdivisions=16\n",
    "  8 width=416\n",
    "  9 height=416\n",
    "603 filters=18\n",
    "610 classes=1\n",
    "689 filters=18\n",
    "696 classes=1\n",
    "776 filters=18\n",
    "789 classes=1\n",
    "```"
   ]
  },
  {
   "cell_type": "code",
   "execution_count": 53,
   "metadata": {
    "colab": {
     "base_uri": "https://localhost:8080/",
     "height": 326
    },
    "colab_type": "code",
    "id": "-D1xKgeurKtY",
    "outputId": "36011686-f544-4baf-99b3-999e718543e2",
    "scrolled": true
   },
   "outputs": [
    {
     "name": "stdout",
     "output_type": "stream",
     "text": [
      "--2019-08-27 15:42:02--  https://docs.google.com/uc?export=download&confirm=&id=1Rv__I8nsJnZvD1VwR_OFVxdx8B-ZcrLr\n",
      "Resolving docs.google.com (docs.google.com)... 108.177.97.113, 108.177.97.101, 108.177.97.100, ...\n",
      "Connecting to docs.google.com (docs.google.com)|108.177.97.113|:443... connected.\n",
      "HTTP request sent, awaiting response... 302 Moved Temporarily\n",
      "Location: https://doc-14-90-docs.googleusercontent.com/docs/securesc/ha0ro937gcuc7l7deffksulhg5h7mbp1/r2nthps3c9ealoh51vahe7sef522rhvn/1566914400000/00369660752892953074/*/1Rv__I8nsJnZvD1VwR_OFVxdx8B-ZcrLr?e=download [following]\n",
      "Warning: wildcards not supported in HTTP.\n",
      "--2019-08-27 15:42:02--  https://doc-14-90-docs.googleusercontent.com/docs/securesc/ha0ro937gcuc7l7deffksulhg5h7mbp1/r2nthps3c9ealoh51vahe7sef522rhvn/1566914400000/00369660752892953074/*/1Rv__I8nsJnZvD1VwR_OFVxdx8B-ZcrLr?e=download\n",
      "Resolving doc-14-90-docs.googleusercontent.com (doc-14-90-docs.googleusercontent.com)... 108.177.97.132, 2404:6800:4008:c00::84\n",
      "Connecting to doc-14-90-docs.googleusercontent.com (doc-14-90-docs.googleusercontent.com)|108.177.97.132|:443... connected.\n",
      "HTTP request sent, awaiting response... 200 OK\n",
      "Length: 8337 (8.1K) [text/plain]\n",
      "Saving to: ‘cfg/custom_yolov3.cfg’\n",
      "\n",
      "\r",
      "cfg/custom_yolov3.c   0%[                    ]       0  --.-KB/s               \r",
      "cfg/custom_yolov3.c 100%[===================>]   8.14K  --.-KB/s    in 0s      \n",
      "\n",
      "2019-08-27 15:42:02 (69.4 MB/s) - ‘cfg/custom_yolov3.cfg’ saved [8337/8337]\n",
      "\n"
     ]
    }
   ],
   "source": [
    "!wget --load-cookies /tmp/cookies.txt \"https://docs.google.com/uc?export=download&confirm=$(wget --quiet --save-cookies /tmp/cookies.txt --keep-session-cookies --no-check-certificate 'https://docs.google.com/uc?export=download&id=1Rv__I8nsJnZvD1VwR_OFVxdx8B-ZcrLr' -O- | sed -rn 's/.*confirm=([0-9A-Za-z_]+).*/\\1\\n/p')&id=1Rv__I8nsJnZvD1VwR_OFVxdx8B-ZcrLr\" -O cfg/custom_yolov3.cfg && rm -rf /tmp/cookies.txt"
   ]
  },
  {
   "cell_type": "markdown",
   "metadata": {
    "colab_type": "text",
    "id": "eALj3lQtrKtZ"
   },
   "source": [
    "#### Re-compiling to reflect the modifications"
   ]
  },
  {
   "cell_type": "code",
   "execution_count": null,
   "metadata": {
    "colab": {
     "base_uri": "https://localhost:8080/",
     "height": 1000
    },
    "colab_type": "code",
    "id": "Dq8J0Dp5rKta",
    "outputId": "4ae6f1ae-7bbb-4d51-f5a6-555efb4c5233",
    "scrolled": false
   },
   "outputs": [],
   "source": [
    "!make"
   ]
  },
  {
   "cell_type": "code",
   "execution_count": 55,
   "metadata": {
    "colab": {
     "base_uri": "https://localhost:8080/",
     "height": 34
    },
    "colab_type": "code",
    "id": "6cucO4Pwvfm4",
    "outputId": "2d158166-4e98-4fb7-a149-3c90a83269c0",
    "scrolled": true
   },
   "outputs": [
    {
     "name": "stdout",
     "output_type": "stream",
     "text": [
      "usage: ./darknet <function>\n"
     ]
    }
   ],
   "source": [
    "!./darknet"
   ]
  },
  {
   "cell_type": "markdown",
   "metadata": {
    "colab_type": "text",
    "id": "41w-0hlbrKtd"
   },
   "source": [
    "#### Loading pre-trained weights to speed-up the training."
   ]
  },
  {
   "cell_type": "code",
   "execution_count": 56,
   "metadata": {
    "colab": {
     "base_uri": "https://localhost:8080/",
     "height": 204
    },
    "colab_type": "code",
    "id": "Jl5e0UjdrKte",
    "outputId": "b5932605-9ce4-46b9-a216-a46ea3127c2a",
    "scrolled": true
   },
   "outputs": [
    {
     "name": "stdout",
     "output_type": "stream",
     "text": [
      "--2019-08-27 15:43:52--  https://pjreddie.com/media/files/darknet53.conv.74\n",
      "Resolving pjreddie.com (pjreddie.com)... 128.208.4.108\n",
      "Connecting to pjreddie.com (pjreddie.com)|128.208.4.108|:443... connected.\n",
      "HTTP request sent, awaiting response... 200 OK\n",
      "Length: 162482580 (155M) [application/octet-stream]\n",
      "Saving to: ‘darknet53.conv.74’\n",
      "\n",
      "darknet53.conv.74   100%[===================>] 154.96M  23.1MB/s    in 7.5s    \n",
      "\n",
      "2019-08-27 15:44:00 (20.8 MB/s) - ‘darknet53.conv.74’ saved [162482580/162482580]\n",
      "\n"
     ]
    }
   ],
   "source": [
    "!wget https://pjreddie.com/media/files/darknet53.conv.74"
   ]
  },
  {
   "cell_type": "markdown",
   "metadata": {},
   "source": [
    "#### Training"
   ]
  },
  {
   "cell_type": "markdown",
   "metadata": {
    "colab_type": "text",
    "id": "yuXRUySErKtf"
   },
   "source": [
    "Re-training the model for detecting our custom object - `number_plate` and stopping the training after the loss in in the range 0.5 - 3 as advised by the framework or if it no longer decreases."
   ]
  },
  {
   "cell_type": "code",
   "execution_count": 0,
   "metadata": {
    "colab": {},
    "colab_type": "code",
    "id": "sv8v_dL5rKtg",
    "scrolled": true
   },
   "outputs": [],
   "source": [
    "!./darknet detector train cfg/objects.data cfg/custom_yolov3.cfg darknet53.conv.74 -dont_show"
   ]
  },
  {
   "cell_type": "markdown",
   "metadata": {},
   "source": [
    "The model has been trained for 1700 iterations on the 90% of the dataset provided in the problem statement.   \n",
    "The loss was around 1.7   \n",
    "The training ouput has been removed."
   ]
  },
  {
   "cell_type": "markdown",
   "metadata": {
    "colab_type": "text",
    "id": "xPw0F7S4rKth"
   },
   "source": [
    "#### Saving the recent weight to the Google Drive."
   ]
  },
  {
   "cell_type": "code",
   "execution_count": 59,
   "metadata": {
    "colab": {
     "base_uri": "https://localhost:8080/",
     "height": 34
    },
    "colab_type": "code",
    "id": "uYvfomp0rKti",
    "outputId": "77209d1f-1794-48cc-f136-1ce535827234",
    "scrolled": true
   },
   "outputs": [
    {
     "name": "stdout",
     "output_type": "stream",
     "text": [
      "Drive already mounted at /content/gdrive; to attempt to forcibly remount, call drive.mount(\"/content/gdrive\", force_remount=True).\n"
     ]
    }
   ],
   "source": [
    "from google.colab import drive\n",
    "drive.mount('/content/gdrive')"
   ]
  },
  {
   "cell_type": "code",
   "execution_count": 0,
   "metadata": {
    "colab": {},
    "colab_type": "code",
    "id": "p8yIvYD5rKtk",
    "scrolled": true
   },
   "outputs": [],
   "source": [
    "!cp \"backup/custom_yolov3_last.weights\" \"/content/gdrive/My Drive/Colab Notebooks/datasets/custom_yolo_files/custom_yolov3_last.weights\""
   ]
  }
 ],
 "metadata": {
  "accelerator": "GPU",
  "colab": {
   "collapsed_sections": [],
   "name": "NBC merged.ipynb",
   "provenance": [],
   "version": "0.3.2"
  },
  "kernelspec": {
   "display_name": "Python 3",
   "language": "python",
   "name": "python3"
  },
  "language_info": {
   "codemirror_mode": {
    "name": "ipython",
    "version": 3
   },
   "file_extension": ".py",
   "mimetype": "text/x-python",
   "name": "python",
   "nbconvert_exporter": "python",
   "pygments_lexer": "ipython3",
   "version": "3.7.1"
  }
 },
 "nbformat": 4,
 "nbformat_minor": 1
}
